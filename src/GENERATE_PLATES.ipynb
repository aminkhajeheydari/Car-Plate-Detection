{
  "nbformat": 4,
  "nbformat_minor": 0,
  "metadata": {
    "colab": {
      "provenance": []
    },
    "kernelspec": {
      "name": "python3",
      "display_name": "Python 3"
    },
    "language_info": {
      "name": "python"
    },
    "accelerator": "GPU",
    "gpuClass": "standard"
  },
  "cells": [
    {
      "cell_type": "code",
      "execution_count": null,
      "metadata": {
        "colab": {
          "base_uri": "https://localhost:8080/"
        },
        "id": "rbywhWRGeTR4",
        "outputId": "83d0704b-8be1-42f7-d56c-66341d8ecbfa"
      },
      "outputs": [
        {
          "output_type": "stream",
          "name": "stdout",
          "text": [
            "Drive already mounted at /content/drive; to attempt to forcibly remount, call drive.mount(\"/content/drive\", force_remount=True).\n",
            "/content/drive/MyDrive\n",
            "fatal: destination path 'iranian-license-plate-recognition' already exists and is not an empty directory.\n",
            "/content/drive/MyDrive/iranian-license-plate-recognition\n",
            "/content/drive/MyDrive/iranian-license-plate-recognition/Dataset\n"
          ]
        }
      ],
      "source": [
        "from google.colab import drive\n",
        "drive.mount('/content/drive')\n",
        "\n"
      ]
    },
    {
      "cell_type": "code",
      "source": [
        "%cd /content/drive/MyDrive\n",
        "!git clone https://github.com/amirmgh1375/iranian-license-plate-recognition.git\n"
      ],
      "metadata": {
        "id": "OZRVESIsf8_Q"
      },
      "execution_count": null,
      "outputs": []
    },
    {
      "cell_type": "code",
      "source": [
        "%cd iranian-license-plate-recognition\n",
        "%cd Dataset\n",
        "\n"
      ],
      "metadata": {
        "colab": {
          "base_uri": "https://localhost:8080/"
        },
        "id": "DmFx54cwf-A2",
        "outputId": "72c50ad3-fc41-43be-840b-4808cd2ef963"
      },
      "execution_count": null,
      "outputs": [
        {
          "output_type": "stream",
          "name": "stdout",
          "text": [
            "[Errno 2] No such file or directory: 'iranian-license-plate-recognition'\n",
            "/content/drive/MyDrive/iranian-license-plate-recognition\n",
            "/content/drive/MyDrive/iranian-license-plate-recognition/Dataset\n"
          ]
        }
      ]
    },
    {
      "cell_type": "code",
      "source": [],
      "metadata": {
        "colab": {
          "base_uri": "https://localhost:8080/"
        },
        "id": "TSFIFxW8nuiG",
        "outputId": "912d068f-5635-4284-ec76-ca3291e27022"
      },
      "execution_count": null,
      "outputs": [
        {
          "output_type": "stream",
          "name": "stdout",
          "text": [
            "/content/drive/MyDrive/iranian-license-plate-recognition/Dataset\n"
          ]
        }
      ]
    },
    {
      "cell_type": "code",
      "source": [
        "pwd"
      ],
      "metadata": {
        "colab": {
          "base_uri": "https://localhost:8080/",
          "height": 36
        },
        "id": "-4be-LwSflni",
        "outputId": "4e69f7af-f41c-49ed-8e7c-9753ef9eb585"
      },
      "execution_count": null,
      "outputs": [
        {
          "output_type": "execute_result",
          "data": {
            "text/plain": [
              "'/content/drive/MyDrive/iranian-license-plate-recognition/Dataset'"
            ],
            "application/vnd.google.colaboratory.intrinsic+json": {
              "type": "string"
            }
          },
          "metadata": {},
          "execution_count": 55
        }
      ]
    },
    {
      "cell_type": "code",
      "source": [
        "path = \"/content/drive/MyDrive/iranian-license-plate-recognition/Dataset\"\n",
        "dir_list = os.listdir(path)\n",
        "  \n",
        "print(\"Files and directories in '\", path, \"' :\") \n",
        "  \n",
        "# print the list\n",
        "print(dir_list)"
      ],
      "metadata": {
        "colab": {
          "base_uri": "https://localhost:8080/"
        },
        "id": "NBchpqvijanU",
        "outputId": "120f7099-f065-4152-fad6-fe0cad1ef71c"
      },
      "execution_count": null,
      "outputs": [
        {
          "output_type": "stream",
          "name": "stdout",
          "text": [
            "Files and directories in ' /content/drive/MyDrive/iranian-license-plate-recognition/Dataset ' :\n",
            "['+Fonts', 'Fonts', 'Glyphs', 'Noises', 'Readme.md', 'Real_Plates', 'Templates', '_roya_bold_namesMap.csv', 'generated_plates']\n"
          ]
        }
      ]
    },
    {
      "cell_type": "code",
      "source": [
        "templates = [os.path.basename(os.path.splitext(template)[0]) for template in os.listdir('/content/drive/MyDrive/iranian-license-plate-recognition/Dataset/Templates') if template.endswith('.png') and template not in ['tashrifat.png', 'template-sepah.png', 'template-police.png']]\n"
      ],
      "metadata": {
        "id": "hFO036xpkGBK"
      },
      "execution_count": null,
      "outputs": []
    },
    {
      "cell_type": "code",
      "source": [
        "templates"
      ],
      "metadata": {
        "colab": {
          "base_uri": "https://localhost:8080/"
        },
        "id": "xTEqh-CVkPwH",
        "outputId": "6a296406-2c55-448d-d3c5-dcbd5a3011b6"
      },
      "execution_count": null,
      "outputs": [
        {
          "output_type": "execute_result",
          "data": {
            "text/plain": [
              "['template-Niromosalah',\n",
              " 'template-artesh',\n",
              " 'template-base',\n",
              " 'template-defa',\n",
              " 'template-diplomat',\n",
              " 'template-dolati',\n",
              " 'template-gozar',\n",
              " 'template-ommomi',\n",
              " 'template-service',\n",
              " 'template-tashrifat']"
            ]
          },
          "metadata": {},
          "execution_count": 28
        }
      ]
    },
    {
      "cell_type": "code",
      "source": [
        "from PIL import Image\n",
        "import os\n",
        "import random\n",
        "import numpy as np\n",
        "import cv2\n",
        "import imutils\n",
        "import csv\n",
        "import time\n",
        "from tqdm import tqdm\n",
        "\n",
        "# Characters of Letters and Numbers in Plates\n",
        "numbers = [str(i) for i in range(0, 10)]\n",
        "# letters = ['ALEF', 'BE', 'PE', 'TE', 'SE', 'JIM', 'CHE', 'HE', 'KHE', 'DAL', 'ZAL', 'RE', 'ZE', 'ZHE', 'SIN','SHIN', 'SAD', 'ZAD', 'TA', 'ZA', 'EIN', 'GHEIN', 'FE', 'GHAF', 'KAF', 'GAF', 'LAM', 'MIM', 'NON', 'VAV', 'HA', 'YE']\n",
        "# letters = ['AA', 'BA', 'PA', 'TA', 'SA', 'JA', 'CA', 'HA', 'KB', 'DA', 'ZA', 'RA', 'ZB', 'ZE', 'SB','SH', 'SC', 'ZC', 'TB', 'ZD', 'EA', 'GA', 'FA', 'GB', 'KA', 'GC', 'LA', 'MA', 'NA', 'VA', 'HB', 'YA']\n",
        "\n",
        "# Fonts and Templates\n",
        "# fonts = [font.split('.')[0] for font in os.listdir('../Fonts') if not font.endswith('.csv')]\n",
        "fonts = ['roya_bold']\n",
        "templates = [os.path.basename(os.path.splitext(template)[0]) for template in os.listdir('./Templates') if template.endswith('.png') and template not in ['tashrifat.png', 'template-sepah.png', 'template-police.png']]\n",
        "# templates = ['template-base']\n",
        "\n",
        "# Noises\n",
        "noises = os.listdir('./Noises')\n",
        "# transformations \n",
        "transformations = ['rotate_right', 'rotate_left', 'zoom_in', 'zoom_out', 'prespective_transform']\n",
        "\n",
        "# Count of permutations\n",
        "permutations = 1\n",
        "\n",
        "# Generateplate array from string \n",
        "# (37GAF853 -> ['3', '7', 'GAF', '8', '5', '3'])\n",
        "def plateFromName (nameStr):\n",
        "    numbers = []\n",
        "    letters = []\n",
        "    \n",
        "    for char in nameStr:\n",
        "        if char.isnumeric(): numbers.append(char)\n",
        "        else: letters.append(char)\n",
        "\n",
        "    return [*numbers[:2], ''.join(letters), *numbers[2:]]\n",
        "\n",
        "# Returns a plate as a string\n",
        "def getPlateName(n1, n2, l, n3, n4, n5):\n",
        "    return f'{n1}{n2}{l}{n3}{n4}{n5}'\n",
        "\n",
        "# Returns Address of a glyph image given font, and glyph name\n",
        "def getGlyphAddress(font, glyphName):\n",
        "    return f'./Glyphs/{font}/{glyphName}_trim.png'\n",
        "\n",
        "# Returns an array containing a plate's letter and numbers:\n",
        "# [number1, number2 , letter, number3, number4, number5]\n",
        "def getNewPlate ():\n",
        "    return [random.choice(numbers), \n",
        "            random.choice(numbers),\n",
        "            random.choice(letters), \n",
        "            random.choice(numbers), \n",
        "            random.choice(numbers),\n",
        "            random.choice(numbers)]\n",
        "    # return plateFromName('37GAF853')\n",
        "\n",
        "# Genrate Noise\n",
        "def applyNoise (plate):\n",
        "    background = plate.convert(\"RGBA\")\n",
        "    noisyTemplates = []\n",
        "    for noise in noises:\n",
        "        newPlate = Image.new('RGBA', (600,132), (0, 0, 0, 0))\n",
        "        newPlate.paste(background, (0,0))\n",
        "        noise = Image.open(os.path.join('./Noises/', noise)).convert(\"RGBA\")\n",
        "        newPlate.paste(noise, (0, 0), mask=noise)\n",
        "        noisyTemplates.append(newPlate)\n",
        "    return noisyTemplates\n",
        "\n",
        "# Generate Transformations of plates\n",
        "def applyTransforms (plate):\n",
        "    transformedTemplates = []\n",
        "    plate = np.array(plate)\n",
        "    \n",
        "    # Rotating to clockwise\n",
        "    for _ in range(3):\n",
        "        result = imutils.rotate_bound(plate, random.randint(2,15))\n",
        "        result = Image.fromarray(result)\n",
        "        transformedTemplates.append(result)\n",
        "\n",
        "    # Rotating to anticlockwise\n",
        "    for _ in range(3):\n",
        "        result = imutils.rotate_bound(plate, random.randint(-15,-2))\n",
        "        result = Image.fromarray(result)\n",
        "        transformedTemplates.append(result)\n",
        "    \n",
        "    # Scaling up\n",
        "    for _ in range(3):\n",
        "        height, width, _ = plate.shape\n",
        "        randScale = random.uniform(1.1, 1.3)\n",
        "        result = cv2.resize(plate, None, fx=randScale, fy=randScale, interpolation = cv2.INTER_CUBIC)\n",
        "        result = Image.fromarray(result)\n",
        "        transformedTemplates.append(result)\n",
        "    \n",
        "    # Scaling down\n",
        "    for _ in range(3):\n",
        "        height, width, _ = plate.shape\n",
        "        randScale = random.uniform(0.2, 0.6)\n",
        "        result = cv2.resize(plate, None, fx=randScale, fy=randScale, interpolation = cv2.INTER_CUBIC)\n",
        "        result = Image.fromarray(result)\n",
        "        transformedTemplates.append(result)\n",
        "\n",
        "    # # Adding perspective transformations\n",
        "    # for _ in range(3):\n",
        "    #     rows,cols,ch = plate.shape\n",
        "    #     background = Image.fromarray(np.zeros(cols + 100, rows + 100, 3))\n",
        "    #     pts1 = np.float32([[50,50],[200,50],[50,200]])\n",
        "    #     pts2 = np.float32([[10,100],[200,50],[100,250]])\n",
        "    #     M = cv2.getAffineTransform(pts1,pts2)\n",
        "    #     result = cv2.warpAffine(plate,M,(cols,rows))\n",
        "    #     result = Image.fromarray(result)\n",
        "    #     transformedTemplates.append(result)\n",
        "    \n",
        "    return transformedTemplates\n",
        "\n",
        "\n",
        "idCounter = 0\n",
        "fontsProgBar = tqdm(total=len(fonts)*len(templates)*permutations*len(noises)*(len(transformations)-1)*3, desc='Generating Plate...')\n",
        "for font in fonts:\n",
        "    # Create font directory if not exists\n",
        "    if not os.path.exists(font): os.mkdir(font)\n",
        "    # time.sleep(0.1)\n",
        "\n",
        "    # Getting the letters list from nameMap csv\n",
        "    letters = []\n",
        "    with open(f'./Fonts/{font}_namesMap.csv') as nameMapCsv:\n",
        "        reader = csv.reader(nameMapCsv)\n",
        "        next(reader) # Skipping header\n",
        "        letters = [rows[1] for rows in reader]\n",
        "\n",
        "    for template in templates:\n",
        "        for i in range(permutations):\n",
        "            idCounter += 1\n",
        "\n",
        "            # Generate a plate as an array\n",
        "            # e.g. ['3', '7', 'GAF', '8', '5', '3']\n",
        "            plate = getNewPlate()\n",
        "            # Get the plate name as string\n",
        "            # e.g. 37_GAF_853\n",
        "            plateName = label = getPlateName(*plate)\n",
        "\n",
        "            # Get Glyph images of plate characters\n",
        "            glyphImages = []\n",
        "            for glyph in plate:\n",
        "                glyphImage = Image.open(getGlyphAddress(font, glyph)).convert(\"RGBA\")\n",
        "                # number.putalpha(255)\n",
        "                glyphImages.append(glyphImage)\n",
        "\n",
        "            # Create a blank image with size of templates \n",
        "            # and add the background and glyph images\n",
        "            newPlate = Image.new('RGBA', (600,132), (0, 0, 0, 0))\n",
        "            background = Image.open(f'./Templates/{template}.png').convert(\"RGBA\")\n",
        "            newPlate.paste(background, (0,0))\n",
        "            # adding glyph images with 11 pixel margin\n",
        "            w = 0\n",
        "            for i, glyph in enumerate(glyphImages):\n",
        "                if i == 2:\n",
        "                    newPlate.paste(glyph, (70 + w,30), mask=glyph)\n",
        "                else: newPlate.paste(glyph, (70 + w,25), mask=glyph)\n",
        "                w += glyph.size[0] + 11\n",
        "            \n",
        "            idCounter += 1\n",
        "            # Save Simple Plate\n",
        "            _newPlate = newPlate.resize((312,70), Image.ANTIALIAS)\n",
        "            fontsProgBar.update(1)\n",
        "            _newPlate.save(f\"{font}/{plateName}_{template.split('-')[1]}{random.randint(0,20)}{idCounter}.png\")\n",
        "            _newPlate.show(f\"{font}/{plateName}_{template.split('-')[1]}.png\")\n",
        "            idCounter += 1\n",
        "            noisyTemplates = applyNoise(newPlate)\n",
        "            for noisyTemplate in noisyTemplates:\n",
        "                idCounter += 1\n",
        "                fontsProgBar.update(1)\n",
        "                _noisyTemplate = noisyTemplate.resize((312,70), Image.ANTIALIAS)\n",
        "                _noisyTemplate.save(f\"{font}/{plateName}_{template.split('-')[1]}{random.randint(0,20)}{idCounter}.png\")\n",
        "                transformedTemplates = applyTransforms(noisyTemplate)\n",
        "                for transformedTemplate in transformedTemplates:\n",
        "                    idCounter += 1\n",
        "                    _transformedTemplate = transformedTemplate.resize((312,70), Image.ANTIALIAS)\n",
        "                    fontsProgBar.update(1)\n",
        "                    _transformedTemplate.save(f\"{font}/{plateName}_{template.split('-')[1]}{random.randint(0,20)}{idCounter}.png\")\n",
        "        fontsProgBar.update(1)\n",
        "    fontsProgBar.update(1)\n",
        "fontsProgBar.update(1)\n",
        "\n",
        "fontsProgBar.close()"
      ],
      "metadata": {
        "colab": {
          "base_uri": "https://localhost:8080/"
        },
        "id": "ZjHdDqPse9kZ",
        "outputId": "fee3b231-d3e0-489e-d023-4182e710375e"
      },
      "execution_count": null,
      "outputs": [
        {
          "output_type": "stream",
          "name": "stderr",
          "text": [
            "Generating Plate...: 1062it [00:18, 57.40it/s]\n"
          ]
        }
      ]
    }
  ]
}